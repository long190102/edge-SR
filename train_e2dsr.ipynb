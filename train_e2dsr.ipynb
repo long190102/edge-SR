{
 "cells": [
  {
   "cell_type": "markdown",
   "metadata": {},
   "source": [
    "# 1. Import thư viện"
   ]
  },
  {
   "cell_type": "code",
   "execution_count": 1,
   "metadata": {
    "execution": {
     "iopub.execute_input": "2024-09-25T12:23:58.495030Z",
     "iopub.status.busy": "2024-09-25T12:23:58.494308Z",
     "iopub.status.idle": "2024-09-25T12:24:03.729522Z",
     "shell.execute_reply": "2024-09-25T12:24:03.728566Z",
     "shell.execute_reply.started": "2024-09-25T12:23:58.494992Z"
    },
    "trusted": true
   },
   "outputs": [],
   "source": [
    "import cv2\n",
    "import numpy as np\n",
    "import os\n",
    "from PIL import Image\n",
    "import shutil\n",
    "import torch\n",
    "import torch.nn as nn\n",
    "import torch.optim as optim\n",
    "from torchvision import transforms\n",
    "from torch.utils.data import DataLoader, Dataset\n",
    "from torch.nn.parallel import DataParallel\n",
    "from torch.cuda.amp import autocast, GradScaler\n",
    "import torch.nn.functional as F\n",
    "from torchvision.utils import save_image\n",
    "import torchsummary\n",
    "from tqdm import tqdm\n",
    "from models.e2dsr import *\n",
    "\n",
    "import time\n",
    "\n"
   ]
  },
  {
   "cell_type": "code",
   "execution_count": 2,
   "metadata": {
    "execution": {
     "iopub.execute_input": "2024-09-25T12:24:03.731452Z",
     "iopub.status.busy": "2024-09-25T12:24:03.730941Z",
     "iopub.status.idle": "2024-09-25T12:24:03.794823Z",
     "shell.execute_reply": "2024-09-25T12:24:03.793839Z",
     "shell.execute_reply.started": "2024-09-25T12:24:03.731417Z"
    },
    "trusted": true
   },
   "outputs": [],
   "source": [
    "import os\n",
    "os.environ['PYTORCH_CUDA_ALLOC_CONF'] = 'max_split_size_mb:128'\n",
    "device = torch.device('cuda' if torch.cuda.is_available() else 'cpu')"
   ]
  },
  {
   "cell_type": "markdown",
   "metadata": {},
   "source": [
    "# 2. Tạo Mô hình SR"
   ]
  },
  {
   "cell_type": "code",
   "execution_count": 3,
   "metadata": {},
   "outputs": [],
   "source": [
    "import os\n",
    "os.environ[\"CUDA_LAUNCH_BLOCKING\"] = \"1\"\n",
    "# device = torch.device('cpu')"
   ]
  },
  {
   "cell_type": "code",
   "execution_count": null,
   "metadata": {
    "execution": {
     "iopub.execute_input": "2024-09-25T12:24:03.797602Z",
     "iopub.status.busy": "2024-09-25T12:24:03.797285Z",
     "iopub.status.idle": "2024-09-25T12:24:03.821933Z",
     "shell.execute_reply": "2024-09-25T12:24:03.821064Z",
     "shell.execute_reply.started": "2024-09-25T12:24:03.797577Z"
    },
    "trusted": true
   },
   "outputs": [],
   "source": []
  },
  {
   "cell_type": "code",
   "execution_count": 4,
   "metadata": {
    "execution": {
     "iopub.execute_input": "2024-09-25T12:24:03.824325Z",
     "iopub.status.busy": "2024-09-25T12:24:03.823331Z",
     "iopub.status.idle": "2024-09-25T12:24:03.833160Z",
     "shell.execute_reply": "2024-09-25T12:24:03.832215Z",
     "shell.execute_reply.started": "2024-09-25T12:24:03.824292Z"
    },
    "trusted": true
   },
   "outputs": [],
   "source": [
    "class ImageDataset(Dataset):\n",
    "    def __init__(self, lr_dir, hr_dir, valid = False, scale=4):\n",
    "        self.lr_files = sorted(os.listdir(lr_dir))\n",
    "        self.hr_files = sorted(os.listdir(hr_dir))\n",
    "        self.lr_dir = lr_dir\n",
    "        self.hr_dir = hr_dir\n",
    "        self.valid = valid\n",
    "        self.scale = scale\n",
    "    def __len__(self):\n",
    "        return len(self.lr_files)\n",
    "\n",
    "    def __getitem__(self, idx):\n",
    "        lr_image = Image.open(os.path.join(self.lr_dir, self.lr_files[idx])).convert('RGB')\n",
    "        hr_image = Image.open(os.path.join(self.hr_dir, self.hr_files[idx])).convert('RGB')\n",
    "        \n",
    "        w, h = hr_image.size\n",
    "        if self.valid:\n",
    "            lr_image = lr_image.resize((w//self.scale, h//self.scale))\n",
    "            \n",
    "        transform = transforms.Compose([\n",
    "            # transforms.ToPILImage(),\n",
    "            transforms.ToTensor()\n",
    "        ])\n",
    "        \n",
    "        lr_image = transform(lr_image)\n",
    "        hr_image = transform(hr_image)\n",
    "        return lr_image, hr_image"
   ]
  },
  {
   "cell_type": "markdown",
   "metadata": {},
   "source": [
    "# 3. Tạo Hyperparameter"
   ]
  },
  {
   "cell_type": "code",
   "execution_count": 5,
   "metadata": {
    "execution": {
     "iopub.execute_input": "2024-09-25T12:24:03.835254Z",
     "iopub.status.busy": "2024-09-25T12:24:03.834750Z",
     "iopub.status.idle": "2024-09-25T12:24:03.841602Z",
     "shell.execute_reply": "2024-09-25T12:24:03.840600Z",
     "shell.execute_reply.started": "2024-09-25T12:24:03.835180Z"
    },
    "trusted": true
   },
   "outputs": [],
   "source": [
    "def calculate_psnr(img1, img2):\n",
    "    mse = torch.mean((img1 - img2) ** 2)\n",
    "    if mse == 0:\n",
    "        return float('inf')\n",
    "    max_pixel = 1.0\n",
    "    psnr = 20 * torch.log10(max_pixel / torch.sqrt(mse))\n",
    "    return psnr.item()"
   ]
  },
  {
   "cell_type": "code",
   "execution_count": null,
   "metadata": {
    "execution": {
     "iopub.execute_input": "2024-09-25T12:33:29.152867Z",
     "iopub.status.busy": "2024-09-25T12:33:29.152523Z",
     "iopub.status.idle": "2024-09-25T12:33:30.352211Z",
     "shell.execute_reply": "2024-09-25T12:33:30.351285Z",
     "shell.execute_reply.started": "2024-09-25T12:33:29.152842Z"
    },
    "trusted": true
   },
   "outputs": [
    {
     "name": "stderr",
     "output_type": "stream",
     "text": [
      "Epoch 1/24:   0%|          | 43/12500 [00:04<22:12,  9.35batch/s] \n"
     ]
    },
    {
     "ename": "KeyboardInterrupt",
     "evalue": "",
     "output_type": "error",
     "traceback": [
      "\u001b[0;31m---------------------------------------------------------------------------\u001b[0m",
      "\u001b[0;31mKeyboardInterrupt\u001b[0m                         Traceback (most recent call last)",
      "Cell \u001b[0;32mIn[6], line 68\u001b[0m\n\u001b[1;32m     65\u001b[0m     loss_e2dsr_canny \u001b[38;5;241m=\u001b[39m criterion(outputs_e2dsr_canny, hr_images)\n\u001b[1;32m     66\u001b[0m psnr_e2dsr_canny \u001b[38;5;241m=\u001b[39m calculate_psnr(outputs_e2dsr_canny, hr_images)\n\u001b[0;32m---> 68\u001b[0m \u001b[43mscaler\u001b[49m\u001b[38;5;241;43m.\u001b[39;49m\u001b[43mscale\u001b[49m\u001b[43m(\u001b[49m\u001b[43mloss_e2dsr_canny\u001b[49m\u001b[43m)\u001b[49m\u001b[38;5;241;43m.\u001b[39;49m\u001b[43mbackward\u001b[49m\u001b[43m(\u001b[49m\u001b[43m)\u001b[49m\n\u001b[1;32m     69\u001b[0m scaler\u001b[38;5;241m.\u001b[39mstep(optim_e2dsr_canny)\n\u001b[1;32m     70\u001b[0m scaler\u001b[38;5;241m.\u001b[39mupdate()\n",
      "File \u001b[0;32m~/anaconda3/envs/pcb/lib/python3.12/site-packages/torch/_tensor.py:521\u001b[0m, in \u001b[0;36mTensor.backward\u001b[0;34m(self, gradient, retain_graph, create_graph, inputs)\u001b[0m\n\u001b[1;32m    511\u001b[0m \u001b[38;5;28;01mif\u001b[39;00m has_torch_function_unary(\u001b[38;5;28mself\u001b[39m):\n\u001b[1;32m    512\u001b[0m     \u001b[38;5;28;01mreturn\u001b[39;00m handle_torch_function(\n\u001b[1;32m    513\u001b[0m         Tensor\u001b[38;5;241m.\u001b[39mbackward,\n\u001b[1;32m    514\u001b[0m         (\u001b[38;5;28mself\u001b[39m,),\n\u001b[0;32m   (...)\u001b[0m\n\u001b[1;32m    519\u001b[0m         inputs\u001b[38;5;241m=\u001b[39minputs,\n\u001b[1;32m    520\u001b[0m     )\n\u001b[0;32m--> 521\u001b[0m \u001b[43mtorch\u001b[49m\u001b[38;5;241;43m.\u001b[39;49m\u001b[43mautograd\u001b[49m\u001b[38;5;241;43m.\u001b[39;49m\u001b[43mbackward\u001b[49m\u001b[43m(\u001b[49m\n\u001b[1;32m    522\u001b[0m \u001b[43m    \u001b[49m\u001b[38;5;28;43mself\u001b[39;49m\u001b[43m,\u001b[49m\u001b[43m \u001b[49m\u001b[43mgradient\u001b[49m\u001b[43m,\u001b[49m\u001b[43m \u001b[49m\u001b[43mretain_graph\u001b[49m\u001b[43m,\u001b[49m\u001b[43m \u001b[49m\u001b[43mcreate_graph\u001b[49m\u001b[43m,\u001b[49m\u001b[43m \u001b[49m\u001b[43minputs\u001b[49m\u001b[38;5;241;43m=\u001b[39;49m\u001b[43minputs\u001b[49m\n\u001b[1;32m    523\u001b[0m \u001b[43m\u001b[49m\u001b[43m)\u001b[49m\n",
      "File \u001b[0;32m~/anaconda3/envs/pcb/lib/python3.12/site-packages/torch/autograd/__init__.py:289\u001b[0m, in \u001b[0;36mbackward\u001b[0;34m(tensors, grad_tensors, retain_graph, create_graph, grad_variables, inputs)\u001b[0m\n\u001b[1;32m    284\u001b[0m     retain_graph \u001b[38;5;241m=\u001b[39m create_graph\n\u001b[1;32m    286\u001b[0m \u001b[38;5;66;03m# The reason we repeat the same comment below is that\u001b[39;00m\n\u001b[1;32m    287\u001b[0m \u001b[38;5;66;03m# some Python versions print out the first line of a multi-line function\u001b[39;00m\n\u001b[1;32m    288\u001b[0m \u001b[38;5;66;03m# calls in the traceback and some print out the last line\u001b[39;00m\n\u001b[0;32m--> 289\u001b[0m \u001b[43m_engine_run_backward\u001b[49m\u001b[43m(\u001b[49m\n\u001b[1;32m    290\u001b[0m \u001b[43m    \u001b[49m\u001b[43mtensors\u001b[49m\u001b[43m,\u001b[49m\n\u001b[1;32m    291\u001b[0m \u001b[43m    \u001b[49m\u001b[43mgrad_tensors_\u001b[49m\u001b[43m,\u001b[49m\n\u001b[1;32m    292\u001b[0m \u001b[43m    \u001b[49m\u001b[43mretain_graph\u001b[49m\u001b[43m,\u001b[49m\n\u001b[1;32m    293\u001b[0m \u001b[43m    \u001b[49m\u001b[43mcreate_graph\u001b[49m\u001b[43m,\u001b[49m\n\u001b[1;32m    294\u001b[0m \u001b[43m    \u001b[49m\u001b[43minputs\u001b[49m\u001b[43m,\u001b[49m\n\u001b[1;32m    295\u001b[0m \u001b[43m    \u001b[49m\u001b[43mallow_unreachable\u001b[49m\u001b[38;5;241;43m=\u001b[39;49m\u001b[38;5;28;43;01mTrue\u001b[39;49;00m\u001b[43m,\u001b[49m\n\u001b[1;32m    296\u001b[0m \u001b[43m    \u001b[49m\u001b[43maccumulate_grad\u001b[49m\u001b[38;5;241;43m=\u001b[39;49m\u001b[38;5;28;43;01mTrue\u001b[39;49;00m\u001b[43m,\u001b[49m\n\u001b[1;32m    297\u001b[0m \u001b[43m\u001b[49m\u001b[43m)\u001b[49m\n",
      "File \u001b[0;32m~/anaconda3/envs/pcb/lib/python3.12/site-packages/torch/autograd/graph.py:768\u001b[0m, in \u001b[0;36m_engine_run_backward\u001b[0;34m(t_outputs, *args, **kwargs)\u001b[0m\n\u001b[1;32m    766\u001b[0m     unregister_hooks \u001b[38;5;241m=\u001b[39m _register_logging_hooks_on_whole_graph(t_outputs)\n\u001b[1;32m    767\u001b[0m \u001b[38;5;28;01mtry\u001b[39;00m:\n\u001b[0;32m--> 768\u001b[0m     \u001b[38;5;28;01mreturn\u001b[39;00m \u001b[43mVariable\u001b[49m\u001b[38;5;241;43m.\u001b[39;49m\u001b[43m_execution_engine\u001b[49m\u001b[38;5;241;43m.\u001b[39;49m\u001b[43mrun_backward\u001b[49m\u001b[43m(\u001b[49m\u001b[43m  \u001b[49m\u001b[38;5;66;43;03m# Calls into the C++ engine to run the backward pass\u001b[39;49;00m\n\u001b[1;32m    769\u001b[0m \u001b[43m        \u001b[49m\u001b[43mt_outputs\u001b[49m\u001b[43m,\u001b[49m\u001b[43m \u001b[49m\u001b[38;5;241;43m*\u001b[39;49m\u001b[43margs\u001b[49m\u001b[43m,\u001b[49m\u001b[43m \u001b[49m\u001b[38;5;241;43m*\u001b[39;49m\u001b[38;5;241;43m*\u001b[39;49m\u001b[43mkwargs\u001b[49m\n\u001b[1;32m    770\u001b[0m \u001b[43m    \u001b[49m\u001b[43m)\u001b[49m  \u001b[38;5;66;03m# Calls into the C++ engine to run the backward pass\u001b[39;00m\n\u001b[1;32m    771\u001b[0m \u001b[38;5;28;01mfinally\u001b[39;00m:\n\u001b[1;32m    772\u001b[0m     \u001b[38;5;28;01mif\u001b[39;00m attach_logging_hooks:\n",
      "\u001b[0;31mKeyboardInterrupt\u001b[0m: "
     ]
    }
   ],
   "source": [
    "from torch.amp import autocast, GradScaler\n",
    "scaler = GradScaler()\n",
    "\n",
    "# Khởi tạo dataset và dataloader\n",
    "for scale in [2, 3, 4]:\n",
    "    train_lr_dir = f'dataset/Train/LR_{scale}'\n",
    "    train_hr_dir = 'dataset/Train/HR'\n",
    "    valid_lr_dir = 'dataset/Test/HR'\n",
    "    valid_hr_dir = 'dataset/Test/HR'\n",
    "    \n",
    "    train_dataset = ImageDataset(train_lr_dir, train_hr_dir)\n",
    "    train_loader = DataLoader(train_dataset, batch_size=16, shuffle=True)\n",
    "\n",
    "    valid_dataset = ImageDataset(valid_lr_dir, valid_hr_dir, valid = True, scale=scale)\n",
    "    valid_loader = DataLoader(valid_dataset)\n",
    "\n",
    "    # Khởi tạo loss function\n",
    "    criterion = nn.MSELoss()\n",
    "    e2dsr_sobel = E2DSR(edge_option='sobel', scale_factor=scale).to(device)\n",
    "    e2dsr_canny = E2DSR(edge_option='canny', scale_factor=scale).to(device)\n",
    "    # Khởi tạo optimizers, schedulers cho từng mô hình\n",
    "    optim_e2dsr_canny = optim.Adam(e2dsr_canny.parameters(), lr=1e-4, betas=(0.9, 0.999))\n",
    "    scheduler_e2dsr_canny = optim.lr_scheduler.StepLR(optim_e2dsr_canny, step_size=10**5, gamma=0.5)\n",
    "\n",
    "    optim_e2dsr_sobel = optim.Adam(e2dsr_sobel.parameters(), lr=1e-4, betas=(0.9, 0.999))\n",
    "    scheduler_e2dsr_sobel = optim.lr_scheduler.StepLR(optim_e2dsr_sobel, step_size=10**5, gamma=0.5)\n",
    "    \n",
    "    num_epochs = 24\n",
    "\n",
    "    best_psnr_e2dsr_canny = float('-inf')\n",
    "    best_psnr_e2dsr_sobel = float('-inf')\n",
    "    torch.cuda.empty_cache()\n",
    "\n",
    "    losses_e2dsr_canny = []\n",
    "    losses_e2dsr_sobel = []\n",
    "\n",
    "    avg_psnr_e2dsr_canny = []\n",
    "    avg_psnr_e2dsr_sobel = []\n",
    "\n",
    "    val_avg_psnr_e2dsr_canny = []\n",
    "    val_avg_psnr_e2dsr_sobel = []\n",
    "\n",
    "    patience = 5\n",
    "    epochs_no_improve = 0\n",
    "    log_file = open('e2dsr.txt', 'a')\n",
    "\n",
    "    for epoch in range(num_epochs):\n",
    "        e2dsr_canny.train()\n",
    "        e2dsr_sobel.train()\n",
    "\n",
    "        epoch_loss_e2dsr_canny, psnr_values_e2dsr_canny = 0, 0\n",
    "        epoch_loss_e2dsr_sobel, psnr_values_e2dsr_sobel = 0, 0\n",
    "\n",
    "        start_time = time.time()\n",
    "        torch.cuda.empty_cache()\n",
    "        # Training loop for each model\n",
    "        for i, (lr_images, hr_images) in enumerate(tqdm(train_loader, desc=f'Epoch {epoch+1}/{num_epochs}', unit='batch')):\n",
    "            lr_images = lr_images.to(device)\n",
    "            hr_images = hr_images.to(device)\n",
    "\n",
    "            # # Train e2dsr_canny model\n",
    "            optim_e2dsr_canny.zero_grad()\n",
    "            with autocast(device_type='cuda'):\n",
    "                outputs_e2dsr_canny = e2dsr_canny(lr_images)\n",
    "                loss_e2dsr_canny = criterion(outputs_e2dsr_canny, hr_images)\n",
    "            psnr_e2dsr_canny = calculate_psnr(outputs_e2dsr_canny, hr_images)\n",
    "\n",
    "            scaler.scale(loss_e2dsr_canny).backward()\n",
    "            scaler.step(optim_e2dsr_canny)\n",
    "            scaler.update()\n",
    "            scheduler_e2dsr_canny.step()\n",
    "\n",
    "            epoch_loss_e2dsr_canny += loss_e2dsr_canny.item()\n",
    "            \n",
    "            psnr_values_e2dsr_canny += psnr_e2dsr_canny\n",
    "\n",
    "            # Train e2dsr_sobel model\n",
    "            optim_e2dsr_sobel.zero_grad()\n",
    "            with autocast(device_type='cuda'):\n",
    "                outputs_e2dsr_sobel = e2dsr_sobel(lr_images)\n",
    "                loss_e2dsr_sobel = criterion(outputs_e2dsr_sobel, hr_images)\n",
    "            psnr_e2dsr_sobel = calculate_psnr(outputs_e2dsr_sobel, hr_images)\n",
    "\n",
    "            scaler.scale(loss_e2dsr_sobel).backward()\n",
    "            scaler.step(optim_e2dsr_sobel)\n",
    "            scaler.update()\n",
    "            scheduler_e2dsr_sobel.step()\n",
    "\n",
    "            epoch_loss_e2dsr_sobel += loss_e2dsr_sobel.item()\n",
    "            psnr_values_e2dsr_sobel += psnr_e2dsr_sobel\n",
    "\n",
    "        # Average losses and PSNRs\n",
    "        avg_epoch_loss_e2dsr_canny = epoch_loss_e2dsr_canny / len(train_loader)\n",
    "        avg_psnr_e2dsr_canny_epoch = psnr_values_e2dsr_canny / len(train_loader)\n",
    "        losses_e2dsr_canny.append(avg_epoch_loss_e2dsr_canny)\n",
    "        avg_psnr_e2dsr_canny.append(avg_psnr_e2dsr_canny_epoch)\n",
    "\n",
    "        avg_epoch_loss_e2dsr_sobel = epoch_loss_e2dsr_sobel / len(train_loader)\n",
    "        avg_psnr_e2dsr_sobel_epoch = psnr_values_e2dsr_sobel / len(train_loader)\n",
    "        losses_e2dsr_sobel.append(avg_epoch_loss_e2dsr_sobel)\n",
    "        avg_psnr_e2dsr_sobel.append(avg_psnr_e2dsr_sobel_epoch)\n",
    "\n",
    "        # Validation for all models\n",
    "        e2dsr_canny.eval()\n",
    "        e2dsr_sobel.eval()\n",
    "\n",
    "        val_psnr_e2dsr_canny, val_psnr_e2dsr_sobel = 0, 0\n",
    "        val_psnr_vdsr, val_psnr_fsrcnn = 0, 0\n",
    "\n",
    "        with torch.no_grad():\n",
    "            for (lr_images, hr_images) in valid_loader:\n",
    "                lr_images = lr_images.cuda()\n",
    "                hr_images = hr_images.cuda()\n",
    "\n",
    "                # # Validate e2dsr_canny\n",
    "                outputs_e2dsr_canny = e2dsr_canny(lr_images)\n",
    "                psnr_e2dsr_canny = calculate_psnr(outputs_e2dsr_canny, hr_images)\n",
    "                val_psnr_e2dsr_canny += psnr_e2dsr_canny\n",
    "\n",
    "                # Validate e2dsr_sobelbel\n",
    "                outputs_e2dsr_sobel = e2dsr_sobel(lr_images)\n",
    "                psnr_e2dsr_sobel = calculate_psnr(outputs_e2dsr_sobel, hr_images)\n",
    "                val_psnr_e2dsr_sobel += psnr_e2dsr_sobel\n",
    "\n",
    "        val_avg_psnr_e2dsr_canny_epoch = val_psnr_e2dsr_canny / len(valid_loader)\n",
    "        val_avg_psnr_e2dsr_canny.append(val_avg_psnr_e2dsr_canny_epoch)\n",
    "\n",
    "        val_avg_psnr_e2dsr_sobel_epoch = val_psnr_e2dsr_sobel / len(valid_loader)\n",
    "        val_avg_psnr_e2dsr_sobel.append(val_avg_psnr_e2dsr_sobel_epoch)\n",
    "\n",
    "        # Save best model\n",
    "        if val_avg_psnr_e2dsr_canny_epoch > best_psnr_e2dsr_canny:\n",
    "            best_psnr_e2dsr_canny = val_avg_psnr_e2dsr_canny_epoch\n",
    "            torch.save(e2dsr_canny.state_dict(), f'outputs/weight_sr/x{scale}/best_e2dsr_canny.pth')\n",
    "            print(f\"Saved e2dsr_cannyR model with PSNR {best_psnr_e2dsr_canny:.4f}\")\n",
    "        if val_avg_psnr_e2dsr_sobel_epoch > best_psnr_e2dsr_sobel:\n",
    "            best_psnr_e2dsr_sobel = val_avg_psnr_e2dsr_sobel_epoch\n",
    "            torch.save(e2dsr_sobel.state_dict(), f'outputs/weight_sr/x{scale}/best_e2dsr_sobel.pth')\n",
    "            print(f\"Saved e2dsr_sobel model with PSNR {best_psnr_e2dsr_sobel:.4f}\")\n",
    "\n",
    "        torch.save(e2dsr_canny.state_dict(), f'outputs/path/e2dsr_canny_{epoch}.pth')\n",
    "        torch.save(e2dsr_sobel.state_dict(), f'outputs/path/e2dsr_sobel_{epoch}.pth')\n",
    "\n",
    "\n",
    "        print(f\"Epoch [{epoch+1}/{num_epochs}] completed: e2dsr_canny Loss: {avg_epoch_loss_e2dsr_canny:.4f}, PSNR: {avg_psnr_e2dsr_canny_epoch:.4f}, Validation PSNR: {val_avg_psnr_e2dsr_canny_epoch:.4f},\"\n",
    "              f\"e2dsr_sobel Loss: {avg_epoch_loss_e2dsr_sobel:.4f}, PSNR: {avg_psnr_e2dsr_sobel_epoch:.4f}, Validation PSNR: {val_avg_psnr_e2dsr_sobel_epoch:.4f}\")\n",
    "    # \n",
    "        log_file.write(f\"Epoch {epoch+1}:  e2dsr_canny PSNR: {avg_psnr_e2dsr_canny_epoch:.4f}, Validation PSNR: {val_avg_psnr_e2dsr_canny_epoch:.4f}\\n\")\n",
    "        log_file.write(f\"              e2dsr_sobel PSNR: {avg_psnr_e2dsr_sobel_epoch:.4f}, Validation PSNR: {val_avg_psnr_e2dsr_sobel_epoch:.4f}\\n\")\n",
    "\n",
    "        log_file.flush()\n",
    "\n",
    "    log_file.close()\n",
    "\n"
   ]
  },
  {
   "cell_type": "code",
   "execution_count": null,
   "metadata": {},
   "outputs": [],
   "source": []
  }
 ],
 "metadata": {
  "kaggle": {
   "accelerator": "nvidiaTeslaT4",
   "dataSources": [
    {
     "datasetId": 5414450,
     "sourceId": 8989742,
     "sourceType": "datasetVersion"
    },
    {
     "datasetId": 5671931,
     "sourceId": 9356096,
     "sourceType": "datasetVersion"
    },
    {
     "datasetId": 5764801,
     "sourceId": 9478075,
     "sourceType": "datasetVersion"
    }
   ],
   "isGpuEnabled": true,
   "isInternetEnabled": true,
   "language": "python",
   "sourceType": "notebook"
  },
  "kernelspec": {
   "display_name": "Python 3",
   "language": "python",
   "name": "python3"
  },
  "language_info": {
   "codemirror_mode": {
    "name": "ipython",
    "version": 3
   },
   "file_extension": ".py",
   "mimetype": "text/x-python",
   "name": "python",
   "nbconvert_exporter": "python",
   "pygments_lexer": "ipython3",
   "version": "3.12.4"
  }
 },
 "nbformat": 4,
 "nbformat_minor": 4
}
